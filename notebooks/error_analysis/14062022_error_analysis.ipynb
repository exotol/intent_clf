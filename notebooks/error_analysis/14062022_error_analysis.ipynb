{
 "cells": [
  {
   "cell_type": "code",
   "execution_count": 1,
   "id": "94837616-b8ef-496f-9e45-073cd6238ae9",
   "metadata": {},
   "outputs": [],
   "source": [
    "%load_ext dotenv\n",
    "%dotenv"
   ]
  },
  {
   "cell_type": "code",
   "execution_count": 3,
   "id": "e9ab8d65-2490-4016-86df-3b81369f623b",
   "metadata": {},
   "outputs": [],
   "source": [
    "# %load common.py\n",
    "import os\n",
    "\n",
    "import matplotlib.pyplot as plt\n",
    "import numpy as np\n",
    "import pandas as pd\n",
    "import seaborn as sns\n",
    "from PIL import Image\n",
    "from tqdm import tqdm\n",
    "from wordcloud import STOPWORDS, ImageColorGenerator, WordCloud\n",
    "\n",
    "pd.set_option(\"display.max_columns\", 500)\n",
    "pd.set_option(\"display.max_rows\", 50)\n",
    "pd.set_option(\"display.max_colwidth\", None)\n",
    "\n",
    "\n",
    "PROJECT_PATH_ROOT = os.getenv(\"PROJECT_PATH_ROOT\")\n",
    "SEED = int(os.getenv(\"SEED\"))\n",
    "\n",
    "DATA_PATH = os.path.join(PROJECT_PATH_ROOT, \"data\", \"raw\")\n",
    "\n",
    "TRAIN_PATH = os.path.join(DATA_PATH, \"train.xlsx\")\n",
    "TEST_PATH = os.path.join(DATA_PATH, \"test.xlsx\")\n"
   ]
  },
  {
   "cell_type": "code",
   "execution_count": 4,
   "id": "6125ebee-f532-473a-a652-c6fa60a308c0",
   "metadata": {},
   "outputs": [],
   "source": [
    "train = pd.read_excel(TRAIN_PATH)"
   ]
  },
  {
   "cell_type": "code",
   "execution_count": 5,
   "id": "e453afa1-7590-43bf-aea3-c96e33730968",
   "metadata": {},
   "outputs": [
    {
     "name": "stderr",
     "output_type": "stream",
     "text": [
      "F:\\shad\\projects\\pet\\rtk_mult_clf\\.venv\\lib\\site-packages\\tqdm\\auto.py:22: TqdmWarning: IProgress not found. Please update jupyter and ipywidgets. See https://ipywidgets.readthedocs.io/en/stable/user_install.html\n",
      "  from .autonotebook import tqdm as notebook_tqdm\n"
     ]
    }
   ],
   "source": [
    "from sentence_transformers import SentenceTransformer"
   ]
  },
  {
   "cell_type": "code",
   "execution_count": 6,
   "id": "11697823-c3a4-4f5f-9283-ccc5aa101e40",
   "metadata": {},
   "outputs": [],
   "source": [
    "sentences = [\"This is an example sentence\", \"Each sentence is converted\"]\n"
   ]
  },
  {
   "cell_type": "code",
   "execution_count": 7,
   "id": "ecbde3b4-3402-4c96-ad21-6af93f3ed554",
   "metadata": {},
   "outputs": [
    {
     "name": "stderr",
     "output_type": "stream",
     "text": [
      "Downloading: 100%|█████████████████████████████████████████████████████████████████████| 391/391 [00:00<00:00, 197kB/s]\n",
      "Downloading: 100%|████████████████████████████████████████████████████████████████████| 190/190 [00:00<00:00, 63.3kB/s]\n",
      "Downloading: 100%|████████████████████████████████████████████████████████████████████| 114/114 [00:00<00:00, 56.8kB/s]\n",
      "Downloading: 100%|████████████████████████████████████████████████████████████████| 2.36M/2.36M [00:01<00:00, 1.96MB/s]\n",
      "Downloading: 100%|█████████████████████████████████████████████████████████████████| 1.62k/1.62k [00:00<00:00, 809kB/s]\n",
      "Downloading: 100%|█████████████████████████████████████████████████████████████████████| 804/804 [00:00<00:00, 266kB/s]\n",
      "Downloading: 100%|████████████████████████████████████████████████████████████████████| 122/122 [00:00<00:00, 40.9kB/s]\n",
      "Downloading: 100%|█████████████████████████████████████████████████████████████████████| 461/461 [00:00<00:00, 230kB/s]\n",
      "Downloading: 100%|████████████████████████████████████████████████████████████████| 1.88G/1.88G [13:27<00:00, 2.33MB/s]\n",
      "Downloading: 100%|██████████████████████████████████████████████████████████████████| 53.0/53.0 [00:00<00:00, 17.7kB/s]\n",
      "Downloading: 100%|████████████████████████████████████████████████████████████████████| 112/112 [00:00<00:00, 56.0kB/s]\n",
      "Downloading: 100%|████████████████████████████████████████████████████████████████| 9.62M/9.62M [00:06<00:00, 1.38MB/s]\n",
      "Downloading: 100%|█████████████████████████████████████████████████████████████████████| 411/411 [00:00<00:00, 205kB/s]\n",
      "Downloading: 100%|████████████████████████████████████████████████████████████████| 5.22M/5.22M [00:02<00:00, 1.77MB/s]\n"
     ]
    }
   ],
   "source": [
    "model = SentenceTransformer('sentence-transformers/LaBSE')"
   ]
  },
  {
   "cell_type": "code",
   "execution_count": 8,
   "id": "d60df129-0dc3-4495-9afc-cce7886c2f8c",
   "metadata": {},
   "outputs": [
    {
     "name": "stdout",
     "output_type": "stream",
     "text": [
      "[[ 0.02882477 -0.00602383 -0.05947006 ... -0.0300225  -0.02960701\n",
      "   0.00067482]\n",
      " [-0.0555023   0.02546481 -0.02157256 ...  0.02932102  0.01150038\n",
      "  -0.00848787]]\n"
     ]
    }
   ],
   "source": [
    "embeddings = model.encode(sentences)\n",
    "print(embeddings)"
   ]
  },
  {
   "cell_type": "code",
   "execution_count": null,
   "id": "430e0e22-d5ee-420d-ac6a-f70b04f335e0",
   "metadata": {},
   "outputs": [],
   "source": []
  },
  {
   "cell_type": "code",
   "execution_count": null,
   "id": "ae672282-b97c-4889-a13e-83ed316b9f1c",
   "metadata": {},
   "outputs": [],
   "source": []
  },
  {
   "cell_type": "code",
   "execution_count": null,
   "id": "f1765e6b-d7cf-4854-9f69-b27f631f89d0",
   "metadata": {},
   "outputs": [],
   "source": []
  }
 ],
 "metadata": {
  "kernelspec": {
   "display_name": "Python 3 (ipykernel)",
   "language": "python",
   "name": "python3"
  },
  "language_info": {
   "codemirror_mode": {
    "name": "ipython",
    "version": 3
   },
   "file_extension": ".py",
   "mimetype": "text/x-python",
   "name": "python",
   "nbconvert_exporter": "python",
   "pygments_lexer": "ipython3",
   "version": "3.9.5"
  }
 },
 "nbformat": 4,
 "nbformat_minor": 5
}
