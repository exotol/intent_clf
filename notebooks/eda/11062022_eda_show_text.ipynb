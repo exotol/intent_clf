{
 "cells": [
  {
   "cell_type": "code",
   "execution_count": 8,
   "id": "19ee2dc7-6911-4751-b060-d0c620594395",
   "metadata": {},
   "outputs": [
    {
     "name": "stdout",
     "output_type": "stream",
     "text": [
      "The dotenv extension is already loaded. To reload it, use:\n",
      "  %reload_ext dotenv\n"
     ]
    }
   ],
   "source": [
    "%load_ext dotenv\n",
    "%dotenv"
   ]
  },
  {
   "cell_type": "code",
   "execution_count": 9,
   "id": "b02b4598-c865-431e-aae4-e1c20e5b0e1c",
   "metadata": {},
   "outputs": [],
   "source": [
    "import os\n",
    "import pandas as pd\n",
    "import numpy as np\n",
    "import seaborn as sns\n",
    "import matplotlib.pyplot as plt\n",
    "from PIL import Image\n",
    "from wordcloud import WordCloud, STOPWORDS, ImageColorGenerator\n",
    "from tqdm import tqdm"
   ]
  },
  {
   "cell_type": "code",
   "execution_count": 10,
   "id": "dc2f7aec-9416-4483-90de-40361dc4dcc2",
   "metadata": {},
   "outputs": [],
   "source": [
    "PROJECT_PATH_ROOT = os.getenv('PROJECT_PATH_ROOT')\n",
    "SEED = int(os.getenv('SEED'))\n",
    "\n",
    "DATA_PATH = os.path.join(PROJECT_PATH_ROOT, \"data\", \"raw\")\n",
    "\n",
    "TRAIN_PATH = os.path.join(DATA_PATH, \"train.xlsx\")\n",
    "TEST_PATH = os.path.join(DATA_PATH, \"test.xlsx\")"
   ]
  },
  {
   "cell_type": "code",
   "execution_count": 11,
   "id": "6aed6033-49f5-46c0-9ac8-e084ff82bb79",
   "metadata": {},
   "outputs": [],
   "source": [
    "train = pd.read_excel(TRAIN_PATH)\n",
    "test = pd.read_excel(TEST_PATH)"
   ]
  },
  {
   "cell_type": "code",
   "execution_count": 12,
   "id": "5827f1d0-7b8c-4a82-b4b8-212ea4be7685",
   "metadata": {},
   "outputs": [],
   "source": [
    "def get_text_all_category(data, category_id):\n",
    "    text = \" \"\n",
    "    category = data[data.target == category_id]\n",
    "    for idx, row in tqdm(category.iterrows(), total=category.shape[0]):\n",
    "        text += row['text'] + \" \"\n",
    "    return text\n",
    "\n",
    "def plot_category(data, category_id, figsize=(7, 5)):\n",
    "    plt.figure(figsize=figsize)\n",
    "    category = get_text_all_category(data, category_id)\n",
    "    wordcloud = WordCloud(max_font_size=50).generate(category)\n",
    "    print(f'Category: {category_id}')\n",
    "    plt.imshow(wordcloud, interpolation=\"bilinear\")\n",
    "    plt.axis(\"off\")\n",
    "    plt.show()"
   ]
  },
  {
   "cell_type": "code",
   "execution_count": null,
   "id": "26bd2817-86ff-4332-9be2-ff9abe5efe3b",
   "metadata": {},
   "outputs": [],
   "source": []
  },
  {
   "cell_type": "code",
   "execution_count": null,
   "id": "67a7c035-c3a2-4d99-b8b8-aef812004d88",
   "metadata": {},
   "outputs": [],
   "source": [
    "plot_category(train, 0, figsize=(10, 7))"
   ]
  },
  {
   "cell_type": "code",
   "execution_count": null,
   "id": "c2971b68-043e-415f-86bb-a44cef5d0175",
   "metadata": {},
   "outputs": [],
   "source": []
  },
  {
   "cell_type": "code",
   "execution_count": null,
   "id": "ec84a259-f01a-4e63-9282-736b0c1bbc91",
   "metadata": {},
   "outputs": [],
   "source": []
  },
  {
   "cell_type": "code",
   "execution_count": null,
   "id": "138ecfe3-bd80-413c-8888-cf6d5c4dc48f",
   "metadata": {},
   "outputs": [],
   "source": []
  }
 ],
 "metadata": {
  "kernelspec": {
   "display_name": "Python 3 (ipykernel)",
   "language": "python",
   "name": "python3"
  },
  "language_info": {
   "codemirror_mode": {
    "name": "ipython",
    "version": 3
   },
   "file_extension": ".py",
   "mimetype": "text/x-python",
   "name": "python",
   "nbconvert_exporter": "python",
   "pygments_lexer": "ipython3",
   "version": "3.9.5"
  }
 },
 "nbformat": 4,
 "nbformat_minor": 5
}
