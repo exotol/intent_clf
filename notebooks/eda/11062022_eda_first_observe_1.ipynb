{
 "cells": [
  {
   "cell_type": "code",
   "execution_count": 1,
   "id": "3927dcaf-640e-4f2c-ae79-d0620894c4f3",
   "metadata": {},
   "outputs": [],
   "source": [
    "%load_ext dotenv\n",
    "%dotenv"
   ]
  },
  {
   "cell_type": "code",
   "execution_count": 2,
   "id": "77440fa9-0f7c-4ac9-a417-0db489e7beed",
   "metadata": {},
   "outputs": [],
   "source": [
    "import os\n",
    "import pandas as pd\n",
    "import numpy as np\n",
    "import seaborn as sns\n",
    "import matplotlib.pyplot as plt"
   ]
  },
  {
   "cell_type": "code",
   "execution_count": 3,
   "id": "2b407bd6-cc78-4e4a-b1e9-0e947a04cdcc",
   "metadata": {},
   "outputs": [],
   "source": [
    "# dotenv.load_dotenv(override=True)"
   ]
  },
  {
   "cell_type": "code",
   "execution_count": 4,
   "id": "d09a8391-1277-4325-b0cc-e9708d657062",
   "metadata": {},
   "outputs": [],
   "source": [
    "PROJECT_PATH_ROOT = os.getenv('PROJECT_PATH_ROOT')\n",
    "SEED = int(os.getenv('SEED'))"
   ]
  },
  {
   "cell_type": "code",
   "execution_count": 5,
   "id": "7fb99357-89d3-4fa9-bd98-cd76a941d601",
   "metadata": {},
   "outputs": [
    {
     "data": {
      "text/plain": [
       "'F:\\\\shad\\\\projects\\\\pet\\\\rtk_mult_clf'"
      ]
     },
     "execution_count": 5,
     "metadata": {},
     "output_type": "execute_result"
    }
   ],
   "source": [
    "PROJECT_PATH_ROOT"
   ]
  },
  {
   "cell_type": "code",
   "execution_count": 6,
   "id": "f0f1d8d8-44cc-442d-b888-e40fad90fbe4",
   "metadata": {},
   "outputs": [
    {
     "data": {
      "text/plain": [
       "100500"
      ]
     },
     "execution_count": 6,
     "metadata": {},
     "output_type": "execute_result"
    }
   ],
   "source": [
    "SEED"
   ]
  },
  {
   "cell_type": "code",
   "execution_count": 7,
   "id": "768909d6-273b-41d3-a97d-cf8afdec4f53",
   "metadata": {},
   "outputs": [],
   "source": [
    "DATA_PATH = os.path.join(PROJECT_PATH_ROOT, \"data\", \"raw\")\n",
    "\n",
    "TRAIN_PATH = os.path.join(DATA_PATH, \"train.xlsx\")\n",
    "TEST_PATH = os.path.join(DATA_PATH, \"test.xlsx\")"
   ]
  },
  {
   "cell_type": "code",
   "execution_count": 8,
   "id": "6be57a67-0ccb-401b-bbdf-8f1821e0a7a5",
   "metadata": {},
   "outputs": [],
   "source": [
    "train = pd.read_excel(TRAIN_PATH)\n",
    "test = pd.read_excel(TEST_PATH)"
   ]
  },
  {
   "cell_type": "code",
   "execution_count": 9,
   "id": "49748d13-1a7b-4a97-a159-d79e72f46dd0",
   "metadata": {},
   "outputs": [],
   "source": [
    "def show_info(df):\n",
    "    print(\"#################\")\n",
    "    print(\"Samples: \", df.shape[0], \"      \", \"Features: \", df.shape[1])\n",
    "    print(\"#################\")\n",
    "    print(df.info)\n",
    "    print(\"#################\")\n",
    "    print(df.info())\n",
    "    print(\"#################\")\n",
    "    print(\"Nan: \", df.isna().sum())\n",
    "    print(\"Empty text: \", df[df.text == \"\"])\n",
    "    display(df.sample(10, random_state=SEED))"
   ]
  },
  {
   "cell_type": "code",
   "execution_count": 10,
   "id": "8aab657a-19a8-4481-9789-e2f4ad4f446e",
   "metadata": {},
   "outputs": [
    {
     "name": "stdout",
     "output_type": "stream",
     "text": [
      "#################\n",
      "Samples:  2442        Features:  2\n",
      "#################\n",
      "<bound method DataFrame.info of                                                    text  target\n",
      "0      Здравствуйте, как поменять пароль на самом Wi-Fi       2\n",
      "1                           У меня 2 день нет интернета       0\n",
      "2               Можно узнать почему скачит пинг в игре?       6\n",
      "3     Здравствуйте, стал плохо работать интернет роу...       4\n",
      "4     Здравствуйте! Обрывы постоянные. Просмотр филь...       4\n",
      "...                                                 ...     ...\n",
      "2437              Здравствуйте, плохо работает интернет       4\n",
      "2438            Добрый день!как поменять пароль вайфая!       2\n",
      "2439  здравствуйте! у наших пожилых родителей устано...       5\n",
      "2440  Здравствуйте, я не могу получить доступ к внут...       7\n",
      "2441       Здравствуйте. Как поменять пароль от вайфая?       2\n",
      "\n",
      "[2442 rows x 2 columns]>\n",
      "#################\n",
      "<class 'pandas.core.frame.DataFrame'>\n",
      "RangeIndex: 2442 entries, 0 to 2441\n",
      "Data columns (total 2 columns):\n",
      " #   Column  Non-Null Count  Dtype \n",
      "---  ------  --------------  ----- \n",
      " 0   text    2442 non-null   object\n",
      " 1   target  2442 non-null   int64 \n",
      "dtypes: int64(1), object(1)\n",
      "memory usage: 38.3+ KB\n",
      "None\n",
      "#################\n",
      "Nan:  text      0\n",
      "target    0\n",
      "dtype: int64\n",
      "Empty text:  Empty DataFrame\n",
      "Columns: [text, target]\n",
      "Index: []\n"
     ]
    },
    {
     "data": {
      "text/html": [
       "<div>\n",
       "<style scoped>\n",
       "    .dataframe tbody tr th:only-of-type {\n",
       "        vertical-align: middle;\n",
       "    }\n",
       "\n",
       "    .dataframe tbody tr th {\n",
       "        vertical-align: top;\n",
       "    }\n",
       "\n",
       "    .dataframe thead th {\n",
       "        text-align: right;\n",
       "    }\n",
       "</style>\n",
       "<table border=\"1\" class=\"dataframe\">\n",
       "  <thead>\n",
       "    <tr style=\"text-align: right;\">\n",
       "      <th></th>\n",
       "      <th>text</th>\n",
       "      <th>target</th>\n",
       "    </tr>\n",
       "  </thead>\n",
       "  <tbody>\n",
       "    <tr>\n",
       "      <th>2441</th>\n",
       "      <td>Здравствуйте. Как поменять пароль от вайфая?</td>\n",
       "      <td>2</td>\n",
       "    </tr>\n",
       "    <tr>\n",
       "      <th>682</th>\n",
       "      <td>Добрый день. Я случайно повредил интернет кабе...</td>\n",
       "      <td>3</td>\n",
       "    </tr>\n",
       "    <tr>\n",
       "      <th>397</th>\n",
       "      <td>Добрый вечер. Почему нет интернета?</td>\n",
       "      <td>0</td>\n",
       "    </tr>\n",
       "    <tr>\n",
       "      <th>1513</th>\n",
       "      <td>Я в подьезде отключил в коробке кабель</td>\n",
       "      <td>3</td>\n",
       "    </tr>\n",
       "    <tr>\n",
       "      <th>1074</th>\n",
       "      <td>Здраствуйте, второй день скорость интернета ме...</td>\n",
       "      <td>1</td>\n",
       "    </tr>\n",
       "    <tr>\n",
       "      <th>1427</th>\n",
       "      <td>Здравствуйте.Плохое интернет соединение.Роутер...</td>\n",
       "      <td>4</td>\n",
       "    </tr>\n",
       "    <tr>\n",
       "      <th>1149</th>\n",
       "      <td>Добрый день! У меня наблюдаются постоянные обр...</td>\n",
       "      <td>4</td>\n",
       "    </tr>\n",
       "    <tr>\n",
       "      <th>1785</th>\n",
       "      <td>Добрый вечер.. У меня с самого утра не работае...</td>\n",
       "      <td>0</td>\n",
       "    </tr>\n",
       "    <tr>\n",
       "      <th>1453</th>\n",
       "      <td>Добрый день. Мне нужна помощь. Суть проблемы: ...</td>\n",
       "      <td>4</td>\n",
       "    </tr>\n",
       "    <tr>\n",
       "      <th>1266</th>\n",
       "      <td>Я перезагружала роутер и не один раз. Не помог...</td>\n",
       "      <td>4</td>\n",
       "    </tr>\n",
       "  </tbody>\n",
       "</table>\n",
       "</div>"
      ],
      "text/plain": [
       "                                                   text  target\n",
       "2441       Здравствуйте. Как поменять пароль от вайфая?       2\n",
       "682   Добрый день. Я случайно повредил интернет кабе...       3\n",
       "397                 Добрый вечер. Почему нет интернета?       0\n",
       "1513             Я в подьезде отключил в коробке кабель       3\n",
       "1074  Здраствуйте, второй день скорость интернета ме...       1\n",
       "1427  Здравствуйте.Плохое интернет соединение.Роутер...       4\n",
       "1149  Добрый день! У меня наблюдаются постоянные обр...       4\n",
       "1785  Добрый вечер.. У меня с самого утра не работае...       0\n",
       "1453  Добрый день. Мне нужна помощь. Суть проблемы: ...       4\n",
       "1266  Я перезагружала роутер и не один раз. Не помог...       4"
      ]
     },
     "metadata": {},
     "output_type": "display_data"
    }
   ],
   "source": [
    "show_info(train)"
   ]
  },
  {
   "cell_type": "code",
   "execution_count": 11,
   "id": "5a83374f-5fff-4d45-98b9-33450c7c3c68",
   "metadata": {},
   "outputs": [
    {
     "name": "stdout",
     "output_type": "stream",
     "text": [
      "#################\n",
      "Samples:  250        Features:  2\n",
      "#################\n",
      "<bound method DataFrame.info of       id                                               text\n",
      "0      0                    Как поставить пароль на вай-фай\n",
      "1      1                  Почему низкая скорость интернета?\n",
      "2      2  Здравствуйте. Это просто не выносимо, каждый д...\n",
      "3      3  Здравствуйте.Целый день интернет глючит.В игра...\n",
      "4      4  У нас не работает Ростелеком провод задели и ч...\n",
      "..   ...                                                ...\n",
      "245  245  Добрый день. Опять проблемы с домашним интерне...\n",
      "246  246                           Модем сгорел после грозы\n",
      "247  247  Что происходит? Интернет несколько дней ужасаю...\n",
      "248  248  Добрый день! По предыдущей моей заявке мастер ...\n",
      "249  249  Низкая скорость.телефон через вай фай даже пло...\n",
      "\n",
      "[250 rows x 2 columns]>\n",
      "#################\n",
      "<class 'pandas.core.frame.DataFrame'>\n",
      "RangeIndex: 250 entries, 0 to 249\n",
      "Data columns (total 2 columns):\n",
      " #   Column  Non-Null Count  Dtype \n",
      "---  ------  --------------  ----- \n",
      " 0   id      250 non-null    int64 \n",
      " 1   text    250 non-null    object\n",
      "dtypes: int64(1), object(1)\n",
      "memory usage: 4.0+ KB\n",
      "None\n",
      "#################\n",
      "Nan:  id      0\n",
      "text    0\n",
      "dtype: int64\n",
      "Empty text:  Empty DataFrame\n",
      "Columns: [id, text]\n",
      "Index: []\n"
     ]
    },
    {
     "data": {
      "text/html": [
       "<div>\n",
       "<style scoped>\n",
       "    .dataframe tbody tr th:only-of-type {\n",
       "        vertical-align: middle;\n",
       "    }\n",
       "\n",
       "    .dataframe tbody tr th {\n",
       "        vertical-align: top;\n",
       "    }\n",
       "\n",
       "    .dataframe thead th {\n",
       "        text-align: right;\n",
       "    }\n",
       "</style>\n",
       "<table border=\"1\" class=\"dataframe\">\n",
       "  <thead>\n",
       "    <tr style=\"text-align: right;\">\n",
       "      <th></th>\n",
       "      <th>id</th>\n",
       "      <th>text</th>\n",
       "    </tr>\n",
       "  </thead>\n",
       "  <tbody>\n",
       "    <tr>\n",
       "      <th>199</th>\n",
       "      <td>199</td>\n",
       "      <td>Здравствуйте, почему не работает wi-fi</td>\n",
       "    </tr>\n",
       "    <tr>\n",
       "      <th>244</th>\n",
       "      <td>244</td>\n",
       "      <td>Как изменить пароль от wifi</td>\n",
       "    </tr>\n",
       "    <tr>\n",
       "      <th>30</th>\n",
       "      <td>30</td>\n",
       "      <td>нет доступа нету выскакивает &amp;quot;не удалось ...</td>\n",
       "    </tr>\n",
       "    <tr>\n",
       "      <th>160</th>\n",
       "      <td>160</td>\n",
       "      <td>Как подключить новый роутер к интернету?</td>\n",
       "    </tr>\n",
       "    <tr>\n",
       "      <th>42</th>\n",
       "      <td>42</td>\n",
       "      <td>У меня частный дом вайфай  терминала не хватае...</td>\n",
       "    </tr>\n",
       "    <tr>\n",
       "      <th>36</th>\n",
       "      <td>36</td>\n",
       "      <td>Добрый день. Подскажите пожалуйста . Месяц наз...</td>\n",
       "    </tr>\n",
       "    <tr>\n",
       "      <th>89</th>\n",
       "      <td>89</td>\n",
       "      <td>здравствуйте, у меня проблемы со скоростью инт...</td>\n",
       "    </tr>\n",
       "    <tr>\n",
       "      <th>87</th>\n",
       "      <td>87</td>\n",
       "      <td>добрый день сгорел от молнии роутер.поставил д...</td>\n",
       "    </tr>\n",
       "    <tr>\n",
       "      <th>227</th>\n",
       "      <td>227</td>\n",
       "      <td>Здравствуйте, у меня с уличной стороны повреди...</td>\n",
       "    </tr>\n",
       "    <tr>\n",
       "      <th>218</th>\n",
       "      <td>218</td>\n",
       "      <td>Здравствуйте,как мне войти в системные настрой...</td>\n",
       "    </tr>\n",
       "  </tbody>\n",
       "</table>\n",
       "</div>"
      ],
      "text/plain": [
       "      id                                               text\n",
       "199  199             Здравствуйте, почему не работает wi-fi\n",
       "244  244                        Как изменить пароль от wifi\n",
       "30    30  нет доступа нету выскакивает &quot;не удалось ...\n",
       "160  160           Как подключить новый роутер к интернету?\n",
       "42    42  У меня частный дом вайфай  терминала не хватае...\n",
       "36    36  Добрый день. Подскажите пожалуйста . Месяц наз...\n",
       "89    89  здравствуйте, у меня проблемы со скоростью инт...\n",
       "87    87  добрый день сгорел от молнии роутер.поставил д...\n",
       "227  227  Здравствуйте, у меня с уличной стороны повреди...\n",
       "218  218  Здравствуйте,как мне войти в системные настрой..."
      ]
     },
     "metadata": {},
     "output_type": "display_data"
    }
   ],
   "source": [
    "show_info(test)"
   ]
  },
  {
   "cell_type": "code",
   "execution_count": 12,
   "id": "a3bc6932-1c00-4e99-a1a6-b2a9cd730359",
   "metadata": {},
   "outputs": [
    {
     "data": {
      "text/plain": [
       "array([ 2,  0,  6,  4,  1,  5,  7,  8,  3,  9, 10], dtype=int64)"
      ]
     },
     "execution_count": 12,
     "metadata": {},
     "output_type": "execute_result"
    }
   ],
   "source": [
    "train.target.unique()"
   ]
  },
  {
   "cell_type": "code",
   "execution_count": 13,
   "id": "f45a23f3-a5ec-4ddd-88f4-dd602bbd9433",
   "metadata": {},
   "outputs": [
    {
     "data": {
      "text/html": [
       "<div>\n",
       "<style scoped>\n",
       "    .dataframe tbody tr th:only-of-type {\n",
       "        vertical-align: middle;\n",
       "    }\n",
       "\n",
       "    .dataframe tbody tr th {\n",
       "        vertical-align: top;\n",
       "    }\n",
       "\n",
       "    .dataframe thead th {\n",
       "        text-align: right;\n",
       "    }\n",
       "</style>\n",
       "<table border=\"1\" class=\"dataframe\">\n",
       "  <thead>\n",
       "    <tr style=\"text-align: right;\">\n",
       "      <th></th>\n",
       "      <th>index</th>\n",
       "      <th>target</th>\n",
       "    </tr>\n",
       "  </thead>\n",
       "  <tbody>\n",
       "    <tr>\n",
       "      <th>0</th>\n",
       "      <td>0</td>\n",
       "      <td>432</td>\n",
       "    </tr>\n",
       "    <tr>\n",
       "      <th>1</th>\n",
       "      <td>1</td>\n",
       "      <td>341</td>\n",
       "    </tr>\n",
       "    <tr>\n",
       "      <th>2</th>\n",
       "      <td>4</td>\n",
       "      <td>318</td>\n",
       "    </tr>\n",
       "    <tr>\n",
       "      <th>3</th>\n",
       "      <td>2</td>\n",
       "      <td>271</td>\n",
       "    </tr>\n",
       "    <tr>\n",
       "      <th>4</th>\n",
       "      <td>3</td>\n",
       "      <td>265</td>\n",
       "    </tr>\n",
       "    <tr>\n",
       "      <th>5</th>\n",
       "      <td>6</td>\n",
       "      <td>235</td>\n",
       "    </tr>\n",
       "    <tr>\n",
       "      <th>6</th>\n",
       "      <td>5</td>\n",
       "      <td>229</td>\n",
       "    </tr>\n",
       "    <tr>\n",
       "      <th>7</th>\n",
       "      <td>7</td>\n",
       "      <td>210</td>\n",
       "    </tr>\n",
       "    <tr>\n",
       "      <th>8</th>\n",
       "      <td>8</td>\n",
       "      <td>78</td>\n",
       "    </tr>\n",
       "    <tr>\n",
       "      <th>9</th>\n",
       "      <td>9</td>\n",
       "      <td>37</td>\n",
       "    </tr>\n",
       "    <tr>\n",
       "      <th>10</th>\n",
       "      <td>10</td>\n",
       "      <td>26</td>\n",
       "    </tr>\n",
       "  </tbody>\n",
       "</table>\n",
       "</div>"
      ],
      "text/plain": [
       "    index  target\n",
       "0       0     432\n",
       "1       1     341\n",
       "2       4     318\n",
       "3       2     271\n",
       "4       3     265\n",
       "5       6     235\n",
       "6       5     229\n",
       "7       7     210\n",
       "8       8      78\n",
       "9       9      37\n",
       "10     10      26"
      ]
     },
     "execution_count": 13,
     "metadata": {},
     "output_type": "execute_result"
    }
   ],
   "source": [
    "train.target.value_counts().reset_index()"
   ]
  },
  {
   "cell_type": "code",
   "execution_count": 14,
   "id": "181adb22-30f7-43c0-890e-cea781cff880",
   "metadata": {},
   "outputs": [
    {
     "data": {
      "image/png": "[encoded data removed]",
      "text/plain": [
       "<Figure size 432x288 with 1 Axes>"
      ]
     },
     "metadata": {
      "needs_background": "light"
     },
     "output_type": "display_data"
    }
   ],
   "source": [
    "ax = sns.barplot(x=\"index\", y=\"target\", data=train.target.value_counts().reset_index())"
   ]
  },
  {
   "cell_type": "markdown",
   "id": "b912781f-c775-4c46-9a44-7177ead40e14",
   "metadata": {},
   "source": [
    "* У нас есть 11 уникальных классов\n",
    "* Классы 8, 9, 10 - представлены значительно меньшим числом элементов, чем другие классы"
   ]
  },
  {
   "cell_type": "code",
   "execution_count": null,
   "id": "f6d8253b-4686-4073-8f7e-f125c4aa5e92",
   "metadata": {},
   "outputs": [],
   "source": []
  },
  {
   "cell_type": "code",
   "execution_count": null,
   "id": "c055315c-1ba1-45d3-a779-7408546b841f",
   "metadata": {},
   "outputs": [],
   "source": []
  },
  {
   "cell_type": "code",
   "execution_count": null,
   "id": "88131712-35d7-41ca-a3d8-2765a2bfd897",
   "metadata": {},
   "outputs": [],
   "source": []
  },
  {
   "cell_type": "code",
   "execution_count": null,
   "id": "d5d2faa2-e075-4b3f-b318-f56bd068291b",
   "metadata": {},
   "outputs": [],
   "source": []
  },
  {
   "cell_type": "code",
   "execution_count": 20,
   "id": "6bdad286-8ba6-4485-a2c2-7adbdcd1563f",
   "metadata": {},
   "outputs": [],
   "source": []
  },
  {
   "cell_type": "code",
   "execution_count": 25,
   "id": "2ae07982-437d-4952-9003-991fe0a1947d",
   "metadata": {},
   "outputs": [],
   "source": []
  },
  {
   "cell_type": "code",
   "execution_count": null,
   "id": "722a8d01-ef28-4a6a-b60c-77c65f862cf0",
   "metadata": {},
   "outputs": [],
   "source": []
  },
  {
   "cell_type": "code",
   "execution_count": null,
   "id": "08faf274-8f8e-4a26-899c-af4f40662d6d",
   "metadata": {},
   "outputs": [],
   "source": []
  },
  {
   "cell_type": "code",
   "execution_count": null,
   "id": "aa7028e1-9fcc-489a-984b-9abc6b30f8cc",
   "metadata": {},
   "outputs": [],
   "source": []
  },
  {
   "cell_type": "code",
   "execution_count": null,
   "id": "94a0cc84-2bdd-448e-bfe2-e7d3f717f4ba",
   "metadata": {},
   "outputs": [],
   "source": []
  },
  {
   "cell_type": "code",
   "execution_count": null,
   "id": "d6daa5e5-3517-4549-b3d5-f957c49e3136",
   "metadata": {},
   "outputs": [],
   "source": []
  },
  {
   "cell_type": "code",
   "execution_count": null,
   "id": "dec8ed00-c904-4e82-81bb-c8bb8a6df8c0",
   "metadata": {},
   "outputs": [],
   "source": []
  },
  {
   "cell_type": "code",
   "execution_count": null,
   "id": "529314ec-1cd9-4005-833f-180c84aa2e8e",
   "metadata": {},
   "outputs": [],
   "source": []
  },
  {
   "cell_type": "code",
   "execution_count": null,
   "id": "e998bdca-9e6a-4c97-bdd7-934c869dcf83",
   "metadata": {},
   "outputs": [],
   "source": []
  }
 ],
 "metadata": {
  "kernelspec": {
   "display_name": "Python 3 (ipykernel)",
   "language": "python",
   "name": "python3"
  },
  "language_info": {
   "codemirror_mode": {
    "name": "ipython",
    "version": 3
   },
   "file_extension": ".py",
   "mimetype": "text/x-python",
   "name": "python",
   "nbconvert_exporter": "python",
   "pygments_lexer": "ipython3",
   "version": "3.9.5"
  }
 },
 "nbformat": 4,
 "nbformat_minor": 5
}
