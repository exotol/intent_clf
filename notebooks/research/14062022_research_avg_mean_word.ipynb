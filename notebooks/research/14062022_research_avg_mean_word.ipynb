{
 "cells": [
  {
   "cell_type": "code",
   "execution_count": 1,
   "id": "8f030680-201b-427b-9c39-162f17fa795e",
   "metadata": {},
   "outputs": [],
   "source": [
    "%load_ext dotenv\n",
    "%dotenv"
   ]
  },
  {
   "cell_type": "code",
   "execution_count": 4,
   "id": "441c8bee-1fb7-4506-b8de-1825fe5cd036",
   "metadata": {},
   "outputs": [],
   "source": [
    "# %load common.py\n",
    "import os\n",
    "\n",
    "import matplotlib.pyplot as plt\n",
    "import numpy as np\n",
    "import pandas as pd\n",
    "import seaborn as sns\n",
    "from PIL import Image\n",
    "from tqdm import tqdm\n",
    "from wordcloud import STOPWORDS, ImageColorGenerator, WordCloud\n",
    "\n",
    "pd.set_option(\"display.max_columns\", 500)\n",
    "pd.set_option(\"display.max_rows\", 50)\n",
    "pd.set_option(\"display.max_colwidth\", None)\n",
    "\n",
    "\n",
    "PROJECT_PATH_ROOT = os.getenv(\"PROJECT_PATH_ROOT\")\n",
    "SEED = int(os.getenv(\"SEED\"))\n",
    "\n",
    "DATA_PATH = os.path.join(PROJECT_PATH_ROOT, \"data\", \"raw\")\n",
    "\n",
    "TRAIN_PATH = os.path.join(DATA_PATH, \"train.xlsx\")\n",
    "TEST_PATH = os.path.join(DATA_PATH, \"test.xlsx\")\n"
   ]
  },
  {
   "cell_type": "code",
   "execution_count": 5,
   "id": "dc982f6e-6d5f-4c0c-96fd-0e134412d29c",
   "metadata": {},
   "outputs": [],
   "source": [
    "train = pd.read_excel(TRAIN_PATH)"
   ]
  },
  {
   "cell_type": "code",
   "execution_count": 6,
   "id": "f5717698-7886-4af1-805e-d2eaf2543f86",
   "metadata": {},
   "outputs": [],
   "source": [
    "from razdel import tokenize, sentenize"
   ]
  },
  {
   "cell_type": "code",
   "execution_count": 7,
   "id": "5330954c-74f3-446a-8a0c-95ee982500a7",
   "metadata": {},
   "outputs": [],
   "source": [
    "words = set()\n",
    "for text in train.text:\n",
    "    for _ in sentenize(text):\n",
    "        for word in tokenize(_.text):\n",
    "            words.add(word.text)"
   ]
  },
  {
   "cell_type": "code",
   "execution_count": 9,
   "id": "58c05498-7871-48f6-ac0a-e0a2d3e00778",
   "metadata": {},
   "outputs": [
    {
     "data": {
      "text/plain": [
       "4684"
      ]
     },
     "execution_count": 9,
     "metadata": {},
     "output_type": "execute_result"
    }
   ],
   "source": [
    "len(words)"
   ]
  },
  {
   "cell_type": "code",
   "execution_count": 11,
   "id": "2b2b0a9f-546f-4ae9-a423-d9860b82eeff",
   "metadata": {},
   "outputs": [],
   "source": [
    "words_len = [len(word) for word in words]"
   ]
  },
  {
   "cell_type": "code",
   "execution_count": 12,
   "id": "285bdbb0-e0d6-4f8c-92f4-61769391ae33",
   "metadata": {},
   "outputs": [
    {
     "data": {
      "text/plain": [
       "7.065115286080273"
      ]
     },
     "execution_count": 12,
     "metadata": {},
     "output_type": "execute_result"
    }
   ],
   "source": [
    "np.mean(words_len)"
   ]
  },
  {
   "cell_type": "code",
   "execution_count": null,
   "id": "1b6fa080-2219-4833-8122-d5e1b50b0db0",
   "metadata": {},
   "outputs": [],
   "source": []
  }
 ],
 "metadata": {
  "kernelspec": {
   "display_name": "Python 3 (ipykernel)",
   "language": "python",
   "name": "python3"
  },
  "language_info": {
   "codemirror_mode": {
    "name": "ipython",
    "version": 3
   },
   "file_extension": ".py",
   "mimetype": "text/x-python",
   "name": "python",
   "nbconvert_exporter": "python",
   "pygments_lexer": "ipython3",
   "version": "3.9.5"
  }
 },
 "nbformat": 4,
 "nbformat_minor": 5
}
